{
  "nbformat": 4,
  "nbformat_minor": 0,
  "metadata": {
    "colab": {
      "name": "PPO-CarRacing-v1.ipynb",
      "provenance": [],
      "collapsed_sections": []
    },
    "kernelspec": {
      "name": "python3",
      "display_name": "Python 3"
    },
    "language_info": {
      "name": "python"
    },
    "accelerator": "GPU"
  },
  "cells": [
    {
      "cell_type": "markdown",
      "source": [
        "# PPO CarRacing-v1\n",
        "\n",
        "---\n",
        "\n",
        "Written by Jonathan Zamora\n",
        "\n",
        "**Note:** This notebook is meant to be run on Google Colab."
      ],
      "metadata": {
        "id": "LiTiBnVSNVEG"
      }
    },
    {
      "cell_type": "markdown",
      "source": [
        "## Step 1: Install Gym and Display Dependencies"
      ],
      "metadata": {
        "id": "81X9woKhNdwn"
      }
    },
    {
      "cell_type": "code",
      "execution_count": null,
      "metadata": {
        "id": "ORt4_Ra2OOGE"
      },
      "outputs": [],
      "source": [
        "!apt-get install -y xvfb x11-utils\n",
        "!pip install pyvirtualdisplay==0.2.*\n",
        "!pip install stable-baselines3[extra]\n",
        "!pip install gym --upgrade\n",
        "!pip install gym[box2d]"
      ]
    },
    {
      "cell_type": "markdown",
      "source": [
        "## Step 2: Import Packages, Initialize Vectorized Environments, and Train PPO Policy for 500K timesteps"
      ],
      "metadata": {
        "id": "39cF26VFNj3t"
      }
    },
    {
      "cell_type": "code",
      "source": [
        "import gym\n",
        "from stable_baselines3 import PPO\n",
        "from stable_baselines3.common.env_util import make_vec_env\n",
        "import imageio\n",
        "import os\n",
        "import numpy as np\n",
        "\n",
        "# Parallel environments\n",
        "env = make_vec_env(\"CarRacing-v1\", n_envs=4)\n",
        "\n",
        "model = PPO(\"CnnPolicy\", env, verbose=1)\n",
        "model.learn(total_timesteps=500_000)"
      ],
      "metadata": {
        "id": "vsFw3UwpOktf"
      },
      "execution_count": null,
      "outputs": []
    },
    {
      "cell_type": "markdown",
      "source": [
        "## Step 3: Save PPO Model"
      ],
      "metadata": {
        "id": "EJx7f2yHN2Bf"
      }
    },
    {
      "cell_type": "code",
      "source": [
        "model.save(\"ppo_racing\")"
      ],
      "metadata": {
        "id": "y9BssYA0StDC"
      },
      "execution_count": 3,
      "outputs": []
    },
    {
      "cell_type": "markdown",
      "source": [
        "## Step 4: Save Evaluation Video"
      ],
      "metadata": {
        "id": "8w0ucExRN5wX"
      }
    },
    {
      "cell_type": "code",
      "source": [
        "#Validation\n",
        "from tqdm import tqdm\n",
        "obs = env.reset()\n",
        "frames = []\n",
        "for i in tqdm(range(1000)):\n",
        "  action, _states = model.predict(obs.copy(), deterministic=True)\n",
        "  obs, reward, done, info = env.step(action)\n",
        "  frames.append(env.render(\"rgb_array\"))\n",
        "  if done.all():\n",
        "    obs = env.reset()\n",
        "    break\n",
        "\n",
        "env.close()\n",
        "\n",
        "path = os.path.join(f\"eval.mp4\")\n",
        "frames = np.array(frames)\n",
        "imageio.mimsave(path, frames, fps=15)"
      ],
      "metadata": {
        "id": "6ch_RgfxGDtf"
      },
      "execution_count": null,
      "outputs": []
    },
    {
      "cell_type": "markdown",
      "source": [
        "## Step 5: Download Video\n",
        "\n",
        "You can find the video under your current working directory in the `Files` tab. Google Colab should have a Folder icon on the left part of the screen, so after clicking this icon, you will see an `eval.mp4` file listed. Hover your mouse over `eval.mp4` and click on the 3-dot icon to choose the `Download` option. You can then watch the video on your personal computer to see how your PPO model performed during evaluation!"
      ],
      "metadata": {
        "id": "SSikMcyJOUPc"
      }
    }
  ]
}